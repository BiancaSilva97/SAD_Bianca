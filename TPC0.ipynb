{
  "nbformat": 4,
  "nbformat_minor": 0,
  "metadata": {
    "colab": {
      "name": "TPC0.ipynb",
      "version": "0.3.2",
      "provenance": [],
      "include_colab_link": true
    },
    "kernelspec": {
      "name": "python2",
      "display_name": "Python 2"
    }
  },
  "cells": [
    {
      "cell_type": "markdown",
      "metadata": {
        "id": "view-in-github",
        "colab_type": "text"
      },
      "source": [
        "[View in Colaboratory](https://colab.research.google.com/github/BiancaSilva97/SAD_Bianca/blob/master/TPC0.ipynb)"
      ]
    },
    {
      "metadata": {
        "id": "kZ1KTqfPo60y",
        "colab_type": "text"
      },
      "cell_type": "markdown",
      "source": [
        "## Bianca Silva\n",
        "\n",
        "**nº20160090**\n",
        "\n",
        "\n",
        "---\n",
        "\n",
        "\n",
        "\n",
        "Engenharia Informática - Sistemas de Apoio à Decisão"
      ]
    },
    {
      "metadata": {
        "id": "PmUY2N7Zop8L",
        "colab_type": "text"
      },
      "cell_type": "markdown",
      "source": [
        "# TPC 0 (entrega na próxima aula - 20 min MAX)\n",
        "\n",
        "### Dominar a linguagem Python\n",
        "#### ENTREGA 22/10/2018\n",
        "\n",
        "----\n",
        "\n",
        "Uma string S composta de N caracteres é considerada como correta se qualquer uma das seguintes condições for verdadeira:\n",
        "\n",
        "- S for vazia;\n",
        "- S tem a forma \"(U)\" ou \"[U]\" ou \"{U}\" onde U é também uma string correta;\n",
        "- S tem a forma \"VW\" onde V e W são strings corretas.\n",
        "\n",
        "\n",
        "Por exemplo, a string \"{[() ()]}\" é considerada correta, mas \"([) ()]\" não é.\n",
        "\n",
        "Escreva uma função:\n",
        "\n",
        "```def solution(S)```\n",
        "\n",
        "que, dada uma sequência S com N caracteres, retorna 1 se S estiver correta e 0 caso contrário.\n",
        "\n",
        "Por exemplo, dado S = \"{[() ()]}\", a função deve retornar 1 e dado S = \"([) ()]\", a função deve retornar 0, como explicado acima.\n",
        "\n",
        "Assuma que:\n",
        "\n",
        "- N é um número inteiro dentro do intervalo [0..200,000];\n",
        "- A string S consiste apenas nos seguintes caracteres: \"(\", \"{\", \"[\", \"]\", \"}\" e / ou \")\"."
      ]
    },
    {
      "metadata": {
        "id": "rCwwey0moqdR",
        "colab_type": "code",
        "colab": {
          "base_uri": "https://localhost:8080/",
          "height": 35
        },
        "outputId": "9efc024f-8b34-4e3e-939e-251889548e3d"
      },
      "cell_type": "code",
      "source": [
        "def solution(S):\n",
        "  N = []\n",
        "  for caracter in S:\n",
        "    if caracter == '(' or caracter == '[' or caracter =='{':\n",
        "      N.append(caracter)\n",
        "    else:\n",
        "      if len(N) == 0:\n",
        "        return 0\n",
        "      NUltimo = N[-1]\n",
        "      if caracter == ')' and NUltimo == '(':\n",
        "        N.pop()\n",
        "      elif caracter == ']' and NUltimo == '[':\n",
        "        N.pop()\n",
        "      elif caracter == '}' and NUltimo == '{':\n",
        "        N.pop()\n",
        "      else:\n",
        "        return 0\n",
        "\n",
        "  return 1 if len(N) == 0 else 0\n",
        "\n",
        "solution('')"
      ],
      "execution_count": 1,
      "outputs": [
        {
          "output_type": "execute_result",
          "data": {
            "text/plain": [
              "1"
            ]
          },
          "metadata": {
            "tags": []
          },
          "execution_count": 1
        }
      ]
    }
  ]
}